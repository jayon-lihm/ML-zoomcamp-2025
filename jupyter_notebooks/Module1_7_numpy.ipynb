{
 "cells": [
  {
   "cell_type": "markdown",
   "id": "f00c7d9c-a44f-495d-951b-54ed75ef0db6",
   "metadata": {},
   "source": [
    "## Module 1-7: Intro to Numpy"
   ]
  },
  {
   "cell_type": "code",
   "execution_count": 3,
   "id": "a7487b04-2bea-49ee-8cac-765018698188",
   "metadata": {},
   "outputs": [],
   "source": [
    "import numpy as np"
   ]
  },
  {
   "cell_type": "markdown",
   "id": "a9818385-9eeb-4d7e-bfd1-140e8a7abdde",
   "metadata": {},
   "source": [
    "### Creating Arrays"
   ]
  },
  {
   "cell_type": "code",
   "execution_count": 4,
   "id": "d1435ab2-b408-4945-a151-73120c3b66a3",
   "metadata": {},
   "outputs": [
    {
     "data": {
      "text/plain": [
       "array([0., 0., 0., 0., 0.])"
      ]
     },
     "execution_count": 4,
     "metadata": {},
     "output_type": "execute_result"
    }
   ],
   "source": [
    "np.zeros(5)"
   ]
  },
  {
   "cell_type": "code",
   "execution_count": 5,
   "id": "c14df40f-deba-4383-83a1-4dc060cea346",
   "metadata": {},
   "outputs": [
    {
     "data": {
      "text/plain": [
       "array([0., 0., 0., 0., 0., 0., 0., 0., 0., 0.])"
      ]
     },
     "execution_count": 5,
     "metadata": {},
     "output_type": "execute_result"
    }
   ],
   "source": [
    "np.zeros(10)"
   ]
  },
  {
   "cell_type": "code",
   "execution_count": 6,
   "id": "fd21a167-bbc9-4aa7-bec1-f801faa3ef5e",
   "metadata": {},
   "outputs": [
    {
     "data": {
      "text/plain": [
       "array([1., 1., 1., 1., 1., 1., 1., 1., 1., 1.])"
      ]
     },
     "execution_count": 6,
     "metadata": {},
     "output_type": "execute_result"
    }
   ],
   "source": [
    "np.ones(10)"
   ]
  },
  {
   "cell_type": "code",
   "execution_count": 8,
   "id": "44786477-d2f2-49f1-98f6-d29291121ddc",
   "metadata": {},
   "outputs": [
    {
     "data": {
      "text/plain": [
       "array([2.5, 2.5, 2.5, 2.5, 2.5, 2.5, 2.5, 2.5, 2.5, 2.5])"
      ]
     },
     "execution_count": 8,
     "metadata": {},
     "output_type": "execute_result"
    }
   ],
   "source": [
    "np.full(10, 2.5) ## creates array with a given number\n",
    "## size = 10"
   ]
  },
  {
   "cell_type": "code",
   "execution_count": 9,
   "id": "9346a25e-5606-4083-9241-291bf5d34c9e",
   "metadata": {},
   "outputs": [
    {
     "data": {
      "text/plain": [
       "[1, 2, 3, 5, 7, 12]"
      ]
     },
     "execution_count": 9,
     "metadata": {},
     "output_type": "execute_result"
    }
   ],
   "source": [
    "[1, 2, 3, 5, 7, 12] ## python list"
   ]
  },
  {
   "cell_type": "code",
   "execution_count": 11,
   "id": "cf7db1d8-fb9c-42f1-a047-bf84e86aa4c6",
   "metadata": {},
   "outputs": [],
   "source": [
    "a = np.array([1, 2, 3, 5, 7, 12])"
   ]
  },
  {
   "cell_type": "code",
   "execution_count": 12,
   "id": "15dc9a67-b546-46b6-9f44-26149153cdfc",
   "metadata": {},
   "outputs": [
    {
     "data": {
      "text/plain": [
       "np.int64(3)"
      ]
     },
     "execution_count": 12,
     "metadata": {},
     "output_type": "execute_result"
    }
   ],
   "source": [
    "a[2]"
   ]
  },
  {
   "cell_type": "code",
   "execution_count": 13,
   "id": "ca494ca2-f4ae-44bf-a607-6a9a5bb7b401",
   "metadata": {},
   "outputs": [
    {
     "name": "stdout",
     "output_type": "stream",
     "text": [
      "[ 1  2 10  5  7 12]\n"
     ]
    }
   ],
   "source": [
    "a[2] = 10 ## change value\n",
    "print(a)"
   ]
  },
  {
   "cell_type": "code",
   "execution_count": 14,
   "id": "85f55d7d-a3c5-4593-beff-e7f52bcf450d",
   "metadata": {},
   "outputs": [
    {
     "data": {
      "text/plain": [
       "array([0, 1, 2, 3, 4, 5, 6, 7, 8, 9])"
      ]
     },
     "execution_count": 14,
     "metadata": {},
     "output_type": "execute_result"
    }
   ],
   "source": [
    "np.arange(10) ## creates from 0 to 9"
   ]
  },
  {
   "cell_type": "code",
   "execution_count": 15,
   "id": "5534cb5d-77ae-4e82-9690-635fbfb6716d",
   "metadata": {},
   "outputs": [
    {
     "data": {
      "text/plain": [
       "array([3, 4, 5, 6, 7, 8, 9])"
      ]
     },
     "execution_count": 15,
     "metadata": {},
     "output_type": "execute_result"
    }
   ],
   "source": [
    "np.arange(3, 10)"
   ]
  },
  {
   "cell_type": "code",
   "execution_count": 20,
   "id": "b66e2d72-957c-4077-be92-68d923b001ac",
   "metadata": {},
   "outputs": [
    {
     "data": {
      "text/plain": [
       "array([0. , 0.1, 0.2, 0.3, 0.4, 0.5, 0.6, 0.7, 0.8, 0.9, 1. ])"
      ]
     },
     "execution_count": 20,
     "metadata": {},
     "output_type": "execute_result"
    }
   ],
   "source": [
    "np.linspace(0, 1, 11) \n",
    "# from 0 to 1 with n elements=11"
   ]
  },
  {
   "cell_type": "code",
   "execution_count": 21,
   "id": "f12fad87-7bfa-4bb6-b8fd-a69663a949e3",
   "metadata": {},
   "outputs": [
    {
     "data": {
      "text/plain": [
       "array([  0.,  10.,  20.,  30.,  40.,  50.,  60.,  70.,  80.,  90., 100.])"
      ]
     },
     "execution_count": 21,
     "metadata": {},
     "output_type": "execute_result"
    }
   ],
   "source": [
    "np.linspace(0, 100, 11) "
   ]
  },
  {
   "cell_type": "markdown",
   "id": "678c24b7-42c0-4f42-a6a3-fdca75c450d3",
   "metadata": {},
   "source": [
    "### Multi-demensional arrays"
   ]
  },
  {
   "cell_type": "code",
   "execution_count": 23,
   "id": "92a35e90-ce59-4ee3-8d3d-6f1697fc990c",
   "metadata": {},
   "outputs": [
    {
     "data": {
      "text/plain": [
       "array([[0., 0.],\n",
       "       [0., 0.],\n",
       "       [0., 0.],\n",
       "       [0., 0.],\n",
       "       [0., 0.]])"
      ]
     },
     "execution_count": 23,
     "metadata": {},
     "output_type": "execute_result"
    }
   ],
   "source": [
    "np.zeros( (5, 2) ) ## 5 rows, 2 cols"
   ]
  },
  {
   "cell_type": "code",
   "execution_count": 26,
   "id": "40b27975-9565-48f6-81ca-b62b06cff43d",
   "metadata": {},
   "outputs": [
    {
     "name": "stdout",
     "output_type": "stream",
     "text": [
      "[[1 2 3]\n",
      " [4 5 6]\n",
      " [7 8 9]]\n"
     ]
    }
   ],
   "source": [
    "n = np.array( [ [1,2,3],\n",
    "            [4, 5, 6],\n",
    "            [7, 8, 9] ])\n",
    "print(n)"
   ]
  },
  {
   "cell_type": "code",
   "execution_count": 28,
   "id": "d0414b70-32c3-4252-af86-4e1fde4a7ae1",
   "metadata": {},
   "outputs": [
    {
     "name": "stdout",
     "output_type": "stream",
     "text": [
      "[[ 1 20  3]\n",
      " [ 4  5  6]\n",
      " [ 7  8  9]]\n"
     ]
    }
   ],
   "source": [
    "n[0, 1] = 20\n",
    "print(n)"
   ]
  },
  {
   "cell_type": "code",
   "execution_count": 29,
   "id": "a1563308-ea8c-4e53-b030-792f3a8c01c7",
   "metadata": {},
   "outputs": [
    {
     "data": {
      "text/plain": [
       "array([ 1, 20,  3])"
      ]
     },
     "execution_count": 29,
     "metadata": {},
     "output_type": "execute_result"
    }
   ],
   "source": [
    "n[0] ## row number 0"
   ]
  },
  {
   "cell_type": "code",
   "execution_count": 30,
   "id": "b64b91c5-663f-47d9-b681-9bb81977497f",
   "metadata": {},
   "outputs": [
    {
     "data": {
      "text/plain": [
       "array([4, 5, 6])"
      ]
     },
     "execution_count": 30,
     "metadata": {},
     "output_type": "execute_result"
    }
   ],
   "source": [
    "n[1] ## row number 1"
   ]
  },
  {
   "cell_type": "code",
   "execution_count": 31,
   "id": "fb80813b-e640-4b87-8555-996a10e4529f",
   "metadata": {},
   "outputs": [
    {
     "data": {
      "text/plain": [
       "array([[ 1, 20,  3],\n",
       "       [ 4,  5,  6],\n",
       "       [ 1,  1,  1]])"
      ]
     },
     "execution_count": 31,
     "metadata": {},
     "output_type": "execute_result"
    }
   ],
   "source": [
    "n[2] = [1, 1, 1] ## replace row number 2\n",
    "n "
   ]
  },
  {
   "cell_type": "code",
   "execution_count": 33,
   "id": "04597e8c-af88-42eb-b795-89eca62ac311",
   "metadata": {},
   "outputs": [
    {
     "data": {
      "text/plain": [
       "array([20,  5,  1])"
      ]
     },
     "execution_count": 33,
     "metadata": {},
     "output_type": "execute_result"
    }
   ],
   "source": [
    "n[:, 1] ## column number 1"
   ]
  },
  {
   "cell_type": "code",
   "execution_count": 34,
   "id": "a369ed7a-f0c4-4a59-9459-b6023c42c8b4",
   "metadata": {},
   "outputs": [
    {
     "data": {
      "text/plain": [
       "array([[ 1, 20,  3],\n",
       "       [ 4,  5,  6],\n",
       "       [ 1,  1,  1]])"
      ]
     },
     "execution_count": 34,
     "metadata": {},
     "output_type": "execute_result"
    }
   ],
   "source": [
    "n[:]"
   ]
  },
  {
   "cell_type": "code",
   "execution_count": 36,
   "id": "5fb3cda1-692f-4bea-9025-adb9d7526c23",
   "metadata": {},
   "outputs": [
    {
     "data": {
      "text/plain": [
       "array([[ 1, 20,  0],\n",
       "       [ 4,  5,  0],\n",
       "       [ 1,  1,  0]])"
      ]
     },
     "execution_count": 36,
     "metadata": {},
     "output_type": "execute_result"
    }
   ],
   "source": [
    "n[:, 2] = [0, 0, 0]\n",
    "n"
   ]
  },
  {
   "cell_type": "markdown",
   "id": "2c99ef78-1d6d-4415-a793-007cdd22f098",
   "metadata": {},
   "source": [
    "### Randomly generated arrays"
   ]
  },
  {
   "cell_type": "code",
   "execution_count": 43,
   "id": "1f4726bf-e650-4195-861d-60d0e0ea77ac",
   "metadata": {},
   "outputs": [
    {
     "data": {
      "text/plain": [
       "array([[0.62113383, 0.52914209],\n",
       "       [0.13457995, 0.51357812],\n",
       "       [0.18443987, 0.78533515],\n",
       "       [0.85397529, 0.49423684],\n",
       "       [0.84656149, 0.07964548]])"
      ]
     },
     "execution_count": 43,
     "metadata": {},
     "output_type": "execute_result"
    }
   ],
   "source": [
    "np.random.rand(5, 2) \n",
    "## 5 rows, 2 cols, uniform distribution\n",
    "## the numbers change everytime"
   ]
  },
  {
   "cell_type": "markdown",
   "id": "14ad099c-3c7a-49e9-bfc1-50a903914212",
   "metadata": {},
   "source": [
    "By fixing the random seed, you can make it reproducible"
   ]
  },
  {
   "cell_type": "code",
   "execution_count": 45,
   "id": "fb416113-179b-4348-b4a1-6faa105e572e",
   "metadata": {},
   "outputs": [
    {
     "data": {
      "text/plain": [
       "array([[0.4359949 , 0.02592623],\n",
       "       [0.54966248, 0.43532239],\n",
       "       [0.4203678 , 0.33033482],\n",
       "       [0.20464863, 0.61927097],\n",
       "       [0.29965467, 0.26682728]])"
      ]
     },
     "execution_count": 45,
     "metadata": {},
     "output_type": "execute_result"
    }
   ],
   "source": [
    "np.random.seed(2)\n",
    "np.random.rand(5, 2)"
   ]
  },
  {
   "cell_type": "markdown",
   "id": "3fd7d3b6-bd75-4bd8-95e3-319987b2e70b",
   "metadata": {},
   "source": [
    "If you want to generate random numbers from normal distribution (standard norml), then "
   ]
  },
  {
   "cell_type": "code",
   "execution_count": 46,
   "id": "674da932-331f-4c4b-8cab-f88bb8ab60dd",
   "metadata": {},
   "outputs": [
    {
     "data": {
      "text/plain": [
       "array([[-0.41675785, -0.05626683],\n",
       "       [-2.1361961 ,  1.64027081],\n",
       "       [-1.79343559, -0.84174737],\n",
       "       [ 0.50288142, -1.24528809],\n",
       "       [-1.05795222, -0.90900761]])"
      ]
     },
     "execution_count": 46,
     "metadata": {},
     "output_type": "execute_result"
    }
   ],
   "source": [
    "np.random.seed(2)\n",
    "np.random.randn(5, 2)"
   ]
  },
  {
   "cell_type": "code",
   "execution_count": 47,
   "id": "aba638ff-a5c0-4af9-9bc8-a7aeb66ae7cc",
   "metadata": {},
   "outputs": [
    {
     "data": {
      "text/plain": [
       "array([[37, 39],\n",
       "       [67,  4],\n",
       "       [42, 51],\n",
       "       [38, 33],\n",
       "       [58, 67]])"
      ]
     },
     "execution_count": 47,
     "metadata": {},
     "output_type": "execute_result"
    }
   ],
   "source": [
    "np.random.randint(low=0, high=100, size=(5,2)) "
   ]
  },
  {
   "cell_type": "markdown",
   "id": "646e60f1-44bc-4d48-a15d-db595b7b7738",
   "metadata": {},
   "source": [
    "## Element-wise operations"
   ]
  },
  {
   "cell_type": "code",
   "execution_count": 49,
   "id": "590e5517-f482-4d46-a745-625df0036148",
   "metadata": {},
   "outputs": [
    {
     "data": {
      "text/plain": [
       "array([0, 1, 2, 3, 4])"
      ]
     },
     "execution_count": 49,
     "metadata": {},
     "output_type": "execute_result"
    }
   ],
   "source": [
    "a = np.arange(5)\n",
    "a\n"
   ]
  },
  {
   "cell_type": "code",
   "execution_count": 50,
   "id": "c7af0ce6-3b42-462a-b73d-8520e1a7dafc",
   "metadata": {},
   "outputs": [
    {
     "data": {
      "text/plain": [
       "array([1, 2, 3, 4, 5])"
      ]
     },
     "execution_count": 50,
     "metadata": {},
     "output_type": "execute_result"
    }
   ],
   "source": [
    "a + 1"
   ]
  },
  {
   "cell_type": "code",
   "execution_count": 51,
   "id": "09f131f0-a4b5-44b2-b07b-e764a0ce9b60",
   "metadata": {},
   "outputs": [
    {
     "data": {
      "text/plain": [
       "array([0, 2, 4, 6, 8])"
      ]
     },
     "execution_count": 51,
     "metadata": {},
     "output_type": "execute_result"
    }
   ],
   "source": [
    "a * 2"
   ]
  },
  {
   "cell_type": "code",
   "execution_count": 52,
   "id": "d90b9900-c2c5-4507-b04d-37c4cfcd2291",
   "metadata": {},
   "outputs": [
    {
     "data": {
      "text/plain": [
       "array([10.  , 10.01, 10.02, 10.03, 10.04])"
      ]
     },
     "execution_count": 52,
     "metadata": {},
     "output_type": "execute_result"
    }
   ],
   "source": [
    "10 + a / 100"
   ]
  },
  {
   "cell_type": "code",
   "execution_count": 54,
   "id": "dc9d1c92-5809-4f94-bc73-59810b69f7b5",
   "metadata": {},
   "outputs": [
    {
     "data": {
      "text/plain": [
       "array([1.  , 1.44, 1.96, 2.56, 3.24])"
      ]
     },
     "execution_count": 54,
     "metadata": {},
     "output_type": "execute_result"
    }
   ],
   "source": [
    "b = (10 + (a * 2)) ** 2 / 100\n",
    "b"
   ]
  },
  {
   "cell_type": "code",
   "execution_count": 55,
   "id": "9bfa4997-a4bb-4a1e-87d6-29bfe1cf445f",
   "metadata": {},
   "outputs": [
    {
     "data": {
      "text/plain": [
       "array([1.  , 2.44, 3.96, 5.56, 7.24])"
      ]
     },
     "execution_count": 55,
     "metadata": {},
     "output_type": "execute_result"
    }
   ],
   "source": [
    "a + b\n"
   ]
  },
  {
   "cell_type": "code",
   "execution_count": 57,
   "id": "6c7e7710-6914-4291-9e10-013962ae90fc",
   "metadata": {},
   "outputs": [
    {
     "data": {
      "text/plain": [
       "array([ 0.  ,  1.44,  3.92,  7.68, 12.96])"
      ]
     },
     "execution_count": 57,
     "metadata": {},
     "output_type": "execute_result"
    }
   ],
   "source": [
    "a * b"
   ]
  },
  {
   "cell_type": "markdown",
   "id": "eac57b04-bb9e-4db1-9540-457df4db77b3",
   "metadata": {},
   "source": [
    "## Comparison operations"
   ]
  },
  {
   "cell_type": "code",
   "execution_count": 60,
   "id": "3dc641e4-87fa-49b3-b731-6d12694e94f0",
   "metadata": {},
   "outputs": [
    {
     "data": {
      "text/plain": [
       "array([0, 1, 2, 3, 4])"
      ]
     },
     "execution_count": 60,
     "metadata": {},
     "output_type": "execute_result"
    }
   ],
   "source": [
    "a"
   ]
  },
  {
   "cell_type": "code",
   "execution_count": 59,
   "id": "133da115-662c-49b3-90f9-8df32d4d0233",
   "metadata": {},
   "outputs": [
    {
     "data": {
      "text/plain": [
       "array([False, False,  True,  True,  True])"
      ]
     },
     "execution_count": 59,
     "metadata": {},
     "output_type": "execute_result"
    }
   ],
   "source": [
    "a >= 2"
   ]
  },
  {
   "cell_type": "code",
   "execution_count": 61,
   "id": "2cafb435-4bb0-40b3-9a44-2c7ebeb54f96",
   "metadata": {},
   "outputs": [
    {
     "data": {
      "text/plain": [
       "array([1.  , 1.44, 1.96, 2.56, 3.24])"
      ]
     },
     "execution_count": 61,
     "metadata": {},
     "output_type": "execute_result"
    }
   ],
   "source": [
    "b"
   ]
  },
  {
   "cell_type": "code",
   "execution_count": 62,
   "id": "385707e1-029e-40f5-b6f1-2f2270d405b7",
   "metadata": {},
   "outputs": [
    {
     "data": {
      "text/plain": [
       "array([False, False,  True,  True,  True])"
      ]
     },
     "execution_count": 62,
     "metadata": {},
     "output_type": "execute_result"
    }
   ],
   "source": [
    "a > b"
   ]
  },
  {
   "cell_type": "code",
   "execution_count": 63,
   "id": "4782e882-bf48-4d0d-aff3-c9ede2bcf51c",
   "metadata": {},
   "outputs": [
    {
     "data": {
      "text/plain": [
       "array([2, 3, 4])"
      ]
     },
     "execution_count": 63,
     "metadata": {},
     "output_type": "execute_result"
    }
   ],
   "source": [
    "a [ a > b ]"
   ]
  },
  {
   "cell_type": "markdown",
   "id": "ebf8e95d-e598-4992-96bb-2d54f9b0bee0",
   "metadata": {},
   "source": [
    "## Summarizing operations"
   ]
  },
  {
   "cell_type": "code",
   "execution_count": 64,
   "id": "37ab9fd2-6bbc-4d7e-9c90-98404bd40ad9",
   "metadata": {},
   "outputs": [
    {
     "data": {
      "text/plain": [
       "array([0, 1, 2, 3, 4])"
      ]
     },
     "execution_count": 64,
     "metadata": {},
     "output_type": "execute_result"
    }
   ],
   "source": [
    "a"
   ]
  },
  {
   "cell_type": "code",
   "execution_count": 65,
   "id": "a4572149-da1f-409f-9a2e-20aa82dc26fc",
   "metadata": {},
   "outputs": [
    {
     "data": {
      "text/plain": [
       "np.int64(4)"
      ]
     },
     "execution_count": 65,
     "metadata": {},
     "output_type": "execute_result"
    }
   ],
   "source": [
    "a.max()"
   ]
  },
  {
   "cell_type": "code",
   "execution_count": 67,
   "id": "1d7314de-03ed-40d7-8d27-ca95ce57e024",
   "metadata": {},
   "outputs": [
    {
     "data": {
      "text/plain": [
       "np.int64(0)"
      ]
     },
     "execution_count": 67,
     "metadata": {},
     "output_type": "execute_result"
    }
   ],
   "source": [
    "a.min()"
   ]
  },
  {
   "cell_type": "code",
   "execution_count": 68,
   "id": "6fd10e96-6a94-48ac-baaa-efea85070aba",
   "metadata": {},
   "outputs": [
    {
     "data": {
      "text/plain": [
       "np.float64(2.0)"
      ]
     },
     "execution_count": 68,
     "metadata": {},
     "output_type": "execute_result"
    }
   ],
   "source": [
    "a.mean()"
   ]
  },
  {
   "cell_type": "code",
   "execution_count": 66,
   "id": "4c6190bc-77a5-41b7-b06f-955f9ef650a2",
   "metadata": {},
   "outputs": [
    {
     "data": {
      "text/plain": [
       "np.int64(10)"
      ]
     },
     "execution_count": 66,
     "metadata": {},
     "output_type": "execute_result"
    }
   ],
   "source": [
    "a.sum()"
   ]
  },
  {
   "cell_type": "code",
   "execution_count": 69,
   "id": "8fafd353-1745-465d-b88a-cb6eebba0f51",
   "metadata": {},
   "outputs": [
    {
     "data": {
      "text/plain": [
       "np.float64(1.4142135623730951)"
      ]
     },
     "execution_count": 69,
     "metadata": {},
     "output_type": "execute_result"
    }
   ],
   "source": [
    "a.std()"
   ]
  },
  {
   "cell_type": "code",
   "execution_count": 70,
   "id": "013f97ab-ba35-41f4-a09f-b3f89a220fb5",
   "metadata": {},
   "outputs": [
    {
     "data": {
      "text/plain": [
       "array([[ 1, 20,  0],\n",
       "       [ 4,  5,  0],\n",
       "       [ 1,  1,  0]])"
      ]
     },
     "execution_count": 70,
     "metadata": {},
     "output_type": "execute_result"
    }
   ],
   "source": [
    "n"
   ]
  },
  {
   "cell_type": "code",
   "execution_count": 72,
   "id": "fef5fcf4-b07c-4d51-8480-d7067d500607",
   "metadata": {},
   "outputs": [
    {
     "data": {
      "text/plain": [
       "np.int64(0)"
      ]
     },
     "execution_count": 72,
     "metadata": {},
     "output_type": "execute_result"
    }
   ],
   "source": [
    "n.min()"
   ]
  },
  {
   "cell_type": "code",
   "execution_count": null,
   "id": "293ff3df-1055-4c7a-86f1-96874a433055",
   "metadata": {},
   "outputs": [],
   "source": []
  }
 ],
 "metadata": {
  "kernelspec": {
   "display_name": "Python 3 (ipykernel)",
   "language": "python",
   "name": "python3"
  },
  "language_info": {
   "codemirror_mode": {
    "name": "ipython",
    "version": 3
   },
   "file_extension": ".py",
   "mimetype": "text/x-python",
   "name": "python",
   "nbconvert_exporter": "python",
   "pygments_lexer": "ipython3",
   "version": "3.11.13"
  }
 },
 "nbformat": 4,
 "nbformat_minor": 5
}
